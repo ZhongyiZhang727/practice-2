{
 "cells": [
  {
   "cell_type": "markdown",
   "metadata": {},
   "source": [
    "argparse is used to create the argument for people to change parameters in the command line. The users can directly type in new parameters and run the code.\n",
    "\n",
    "name or flags - Either a name or a list of option strings, e.g. foo or -f, --foo.\n",
    "\n",
    "action - The basic type of action to be taken when this argument is encountered at the command line.\n",
    "\n",
    "nargs - The number of command-line arguments that should be consumed.\n",
    "\n",
    "const - A constant value required by some action and nargs selections.\n",
    "\n",
    "default - The value produced if the argument is absent from the command line and if it is absent from the namespace object.\n",
    "\n",
    "type - The type to which the command-line argument should be converted.\n",
    "\n",
    "choices - A container of the allowable values for the argument.\n",
    "\n",
    "required - Whether or not the command-line option may be omitted (optionals only).\n",
    "\n",
    "help - A brief description of what the argument does.\n",
    "\n",
    "metavar - A name for the argument in usage messages.\n",
    "\n",
    "dest - The name of the attribute to be added to the object returned by parse_args()."
   ]
  },
  {
   "cell_type": "markdown",
   "metadata": {},
   "source": [
    "Then we define each variable a name.\n",
    "\n",
    "assert variable is to test if this variable input is ture or not. If it is not defined, it will return AssertionError.\n",
    "\n",
    "time.time() to return the current time\n",
    "\n",
    "Conf_file_name will join the two directories of conf_dir and conf_file\n",
    "\n"
   ]
  },
  {
   "cell_type": "code",
   "execution_count": 17,
   "metadata": {},
   "outputs": [
    {
     "name": "stdout",
     "output_type": "stream",
     "text": [
      "1608798982\n"
     ]
    }
   ],
   "source": [
    "import time\n",
    "t = int(time.time())\n",
    "print(t)"
   ]
  },
  {
   "cell_type": "code",
   "execution_count": 18,
   "metadata": {},
   "outputs": [
    {
     "name": "stdout",
     "output_type": "stream",
     "text": [
      "Thu Dec 24 02:36:22 2020\n"
     ]
    }
   ],
   "source": [
    "print(time.asctime( time.localtime(time.time()) ))"
   ]
  },
  {
   "cell_type": "code",
   "execution_count": 19,
   "metadata": {},
   "outputs": [
    {
     "name": "stdout",
     "output_type": "stream",
     "text": [
      "t1:  time.struct_time(tm_year=2020, tm_mon=12, tm_mday=24, tm_hour=2, tm_min=36, tm_sec=22, tm_wday=3, tm_yday=359, tm_isdst=0)\n",
      "\\s: 1608798982\n"
     ]
    }
   ],
   "source": [
    "import time\n",
    "\n",
    "seconds = 1608798982\n",
    "\n",
    "# returns struct_time\n",
    "t = time.localtime(seconds)\n",
    "print(\"t1: \", t)\n",
    "\n",
    "# returns seconds from struct_time\n",
    "s = time.mktime(t)\n",
    "print(\"\\s:\", seconds)"
   ]
  },
  {
   "cell_type": "markdown",
   "metadata": {},
   "source": [
    "config parser is to create key value pairs for creating configuration files."
   ]
  },
  {
   "cell_type": "markdown",
   "metadata": {},
   "source": [
    "All option names used in interpolation will be passed through the optionxform() method just like any other option name reference. Using the default implementation of optionxform(), the values foo %(bar)s and foo %(BAR)s are equivalent.\n",
    "\n",
    "All option names are passed through the optionxform() method. Its default implementation converts option names to lower case.\n",
    "\n",
    "Note that when reading configuration files, whitespace around the option names are stripped before optionxform() is called."
   ]
  },
  {
   "cell_type": "code",
   "execution_count": 11,
   "metadata": {},
   "outputs": [],
   "source": [
    "# import statements\n",
    "import argparse\n",
    "import configparser\n",
    "import logging.config\n",
    "import times\n",
    "import os\n",
    "\n",
    "from os.path import join"
   ]
  },
  {
   "cell_type": "code",
   "execution_count": 5,
   "metadata": {},
   "outputs": [],
   "source": [
    "from configparser import ConfigParser\n",
    "\n",
    "config = ConfigParser()\n",
    "\n",
    "config['DEFAULT'] = {\n",
    "    'title': 'Hello world',\n",
    "    'compression': 'yes',\n",
    "    'compression_level': '9'\n",
    "}\n",
    "\n",
    "config['database'] = {}\n",
    "database = config['database']\n",
    "database['host'] = '127.0.0.1'\n",
    "database['user'] = 'username'\n",
    "database['pass'] = 'password'\n",
    "database['keep-alive'] = 'no'\n",
    "config['database'] = database\n",
    "\n",
    "with open('config.ini', 'w') as configfile:\n",
    "    config.write(configfile)"
   ]
  },
  {
   "cell_type": "code",
   "execution_count": 6,
   "metadata": {},
   "outputs": [
    {
     "name": "stderr",
     "output_type": "stream",
     "text": [
      "/usr/local/lib/python3.7/site-packages/ipykernel_launcher.py:4: DeprecationWarning: This method will be removed in future versions.  Use 'parser.read_file()' instead.\n",
      "  after removing the cwd from sys.path.\n"
     ]
    }
   ],
   "source": [
    "import configparser\n",
    "\n",
    "config = configparser.ConfigParser()\n",
    "config.readfp(open(r'config.ini'))"
   ]
  },
  {
   "cell_type": "markdown",
   "metadata": {},
   "source": [
    "### we read the configuration files from the joined CONF_DIR and CONF_FILE directories with passing to same lower case format."
   ]
  },
  {
   "cell_type": "markdown",
   "metadata": {},
   "source": [
    "Then we define the resources_config_file to be the curr_env under the Settings category."
   ]
  },
  {
   "cell_type": "code",
   "execution_count": null,
   "metadata": {},
   "outputs": [],
   "source": [
    "# Questions:\n",
    "# Line 56:\n",
    "RESOURCE_MANAGER = commons.resources.ResourceManager(RESOURCES_CONFIG_FILE)"
   ]
  },
  {
   "cell_type": "markdown",
   "metadata": {},
   "source": [
    "Then I format the LOG_SUB_DIR directory."
   ]
  },
  {
   "cell_type": "markdown",
   "metadata": {},
   "source": [
    "def init_logging() function:              \n",
    "log_config['DEFAULT']['log_dir'] = CONFIG['DIRECTORIRES']['log_dir']             \n",
    "log_config['DEFAULT']['log_sub_dir'] = LOG_DIR/CYCLE_DATE.RUN_ID                \n",
    "logging.config.fileConfig() is to read the logging configuration from a configparser-format file. The format of the file should be as described in Configuration file format. "
   ]
  },
  {
   "cell_type": "code",
   "execution_count": 24,
   "metadata": {},
   "outputs": [
    {
     "name": "stderr",
     "output_type": "stream",
     "text": [
      "2020-12-28 12:04:30,362 192.168.0.1 fbloggs  Protocol problem: connection reset\n"
     ]
    }
   ],
   "source": [
    "FORMAT = '%(asctime)-15s %(clientip)s %(user)-8s %(message)s'\n",
    "logging.basicConfig(format=FORMAT)\n",
    "d = {'clientip': '192.168.0.1', 'user': 'fbloggs'}\n",
    "logger = logging.getLogger('tcpserver')\n",
    "logger.warning('Protocol problem: %s', 'connection reset', extra=d)"
   ]
  },
  {
   "cell_type": "code",
   "execution_count": 22,
   "metadata": {},
   "outputs": [
    {
     "name": "stdout",
     "output_type": "stream",
     "text": [
      "<Logger tcpserver (WARNING)>\n"
     ]
    }
   ],
   "source": [
    "print(logger)"
   ]
  },
  {
   "cell_type": "code",
   "execution_count": 47,
   "metadata": {},
   "outputs": [],
   "source": [
    "import csv\n",
    "\n",
    "with open(\"pdt.txt\", \"rt\") as file_pipe:\n",
    "    reader_pipe = csv.reader(file_pipe, delimiter='|')\n",
    "    with open(\"pdt.csv\", 'wt') as file_comma:\n",
    "        writer_comma = csv.writer(file_comma, delimiter=',')\n",
    "        writer_comma.writerows(reader_pipe)"
   ]
  },
  {
   "cell_type": "code",
   "execution_count": null,
   "metadata": {},
   "outputs": [],
   "source": []
  },
  {
   "cell_type": "code",
   "execution_count": null,
   "metadata": {},
   "outputs": [],
   "source": []
  },
  {
   "cell_type": "code",
   "execution_count": null,
   "metadata": {},
   "outputs": [],
   "source": []
  },
  {
   "cell_type": "code",
   "execution_count": null,
   "metadata": {},
   "outputs": [],
   "source": []
  },
  {
   "cell_type": "code",
   "execution_count": null,
   "metadata": {},
   "outputs": [],
   "source": []
  },
  {
   "cell_type": "code",
   "execution_count": null,
   "metadata": {},
   "outputs": [],
   "source": []
  },
  {
   "cell_type": "code",
   "execution_count": null,
   "metadata": {},
   "outputs": [],
   "source": []
  },
  {
   "cell_type": "code",
   "execution_count": null,
   "metadata": {},
   "outputs": [],
   "source": []
  },
  {
   "cell_type": "code",
   "execution_count": null,
   "metadata": {},
   "outputs": [],
   "source": []
  },
  {
   "cell_type": "code",
   "execution_count": null,
   "metadata": {},
   "outputs": [],
   "source": []
  }
 ],
 "metadata": {
  "kernelspec": {
   "display_name": "Python 3",
   "language": "python",
   "name": "python3"
  },
  "language_info": {
   "codemirror_mode": {
    "name": "ipython",
    "version": 3
   },
   "file_extension": ".py",
   "mimetype": "text/x-python",
   "name": "python",
   "nbconvert_exporter": "python",
   "pygments_lexer": "ipython3",
   "version": "3.7.5"
  }
 },
 "nbformat": 4,
 "nbformat_minor": 4
}
