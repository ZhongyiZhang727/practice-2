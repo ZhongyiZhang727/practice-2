{
 "cells": [
  {
   "cell_type": "markdown",
   "metadata": {},
   "source": [
    "# Average Word Length"
   ]
  },
  {
   "cell_type": "code",
   "execution_count": 80,
   "metadata": {},
   "outputs": [
    {
     "data": {
      "text/plain": [
       "3.5"
      ]
     },
     "execution_count": 80,
     "metadata": {},
     "output_type": "execute_result"
    }
   ],
   "source": [
    "def avgword(s: str):\n",
    "    return sum(map(len, s.split())) / len(s.split())\n",
    "avgword('hello world my name is bob')"
   ]
  },
  {
   "cell_type": "code",
   "execution_count": 83,
   "metadata": {},
   "outputs": [
    {
     "data": {
      "text/plain": [
       "3.5"
      ]
     },
     "execution_count": 83,
     "metadata": {},
     "output_type": "execute_result"
    }
   ],
   "source": [
    "def avgword2(s: str):\n",
    "    l = 0\n",
    "    for i in s.split():\n",
    "        l += len(i)\n",
    "    return l / len(s.split())\n",
    "avgword2('hello world my name is bob')"
   ]
  },
  {
   "cell_type": "code",
   "execution_count": 95,
   "metadata": {},
   "outputs": [
    {
     "data": {
      "text/plain": [
       "3.5"
      ]
     },
     "execution_count": 95,
     "metadata": {},
     "output_type": "execute_result"
    }
   ],
   "source": [
    "def avgword3(s: str):\n",
    "    return sum([len(i) for i in s.split()]) / len(s.split())\n",
    "avgword3('hello world my name is bob')"
   ]
  },
  {
   "cell_type": "markdown",
   "metadata": {},
   "source": [
    "# Fill None with Previous value"
   ]
  },
  {
   "cell_type": "code",
   "execution_count": 144,
   "metadata": {},
   "outputs": [
    {
     "data": {
      "text/plain": [
       "[1, 1, 1, 2, 2, 2]"
      ]
     },
     "execution_count": 144,
     "metadata": {},
     "output_type": "execute_result"
    }
   ],
   "source": [
    "def fillprev(l: list):\n",
    "    for i in range(1, len(l)):\n",
    "        if l[i] == None:\n",
    "            l[i] = l[i-1]\n",
    "    return l\n",
    "fillprev([1, None, None, 2, None, None])"
   ]
  },
  {
   "cell_type": "code",
   "execution_count": 146,
   "metadata": {},
   "outputs": [
    {
     "data": {
      "text/plain": [
       "[1, 1, 1, 2, 2, 3]"
      ]
     },
     "execution_count": 146,
     "metadata": {},
     "output_type": "execute_result"
    }
   ],
   "source": [
    "def fillprev2(l: list):\n",
    "    s=[l[0]]\n",
    "    for i in l[1:]:\n",
    "        if i == None:\n",
    "            s.append(s[-1])\n",
    "        else: s.append(i)\n",
    "    return s\n",
    "fillprev2([1, None, None, 2, None, 3])"
   ]
  },
  {
   "cell_type": "markdown",
   "metadata": {},
   "source": [
    "# Difference between two words"
   ]
  },
  {
   "cell_type": "code",
   "execution_count": 47,
   "metadata": {},
   "outputs": [
    {
     "data": {
      "text/plain": [
       "{'ARE', 'HOW', 'How', 'are', 'ok', 'sir'}"
      ]
     },
     "execution_count": 47,
     "metadata": {},
     "output_type": "execute_result"
    }
   ],
   "source": [
    "def compare(s1, s2):\n",
    "    set1 = set(s1.split(' '))\n",
    "    set2 = set(s2.split(' '))\n",
    "    return set1^set2\n",
    "#     return set1.symmetric_difference(set2)\n",
    "#     return (set1-set2).union(set2-set1)\n",
    "compare(\"HOW ARE you\", 'How are you ok sir')"
   ]
  },
  {
   "cell_type": "code",
   "execution_count": 35,
   "metadata": {},
   "outputs": [
    {
     "data": {
      "text/plain": [
       "['HOW', 'How', 'ARE', 'are', 'ok', 'sir']"
      ]
     },
     "execution_count": 35,
     "metadata": {},
     "output_type": "execute_result"
    }
   ],
   "source": [
    "def compare(s1, s2):\n",
    "    from itertools import zip_longest\n",
    "    stack = []\n",
    "    l1 = s1.split(' ')\n",
    "    l2 = s2.split(' ')\n",
    "    for i, j in zip_longest(l1, l2):\n",
    "        if i != j:\n",
    "            stack += [i] if i is not None else []\n",
    "            stack += [j] if j is not None else[]\n",
    "    return stack\n",
    "compare(\"HOW ARE you\", 'How are you ok sir')"
   ]
  },
  {
   "cell_type": "markdown",
   "metadata": {},
   "source": [
    "# Count substring occurrence"
   ]
  },
  {
   "cell_type": "code",
   "execution_count": 11,
   "metadata": {},
   "outputs": [
    {
     "data": {
      "text/plain": [
       "2"
      ]
     },
     "execution_count": 11,
     "metadata": {},
     "output_type": "execute_result"
    }
   ],
   "source": [
    "def counter1(s: str, char: str):\n",
    "    return s.count(char)\n",
    "counter1('mississipiiii','ss')"
   ]
  },
  {
   "cell_type": "code",
   "execution_count": 2,
   "metadata": {},
   "outputs": [
    {
     "data": {
      "text/plain": [
       "4"
      ]
     },
     "execution_count": 2,
     "metadata": {},
     "output_type": "execute_result"
    }
   ],
   "source": [
    "def counter2(s: str, char: str):\n",
    "    count = 0\n",
    "    for i in s:\n",
    "        if i == char:\n",
    "            count += 1\n",
    "    return count\n",
    "counter2('mississipi','s')"
   ]
  },
  {
   "cell_type": "markdown",
   "metadata": {},
   "source": [
    "# Find n-th highest value with smallest alphabetical order key"
   ]
  },
  {
   "cell_type": "code",
   "execution_count": 1,
   "metadata": {},
   "outputs": [
    {
     "data": {
      "text/plain": [
       "'d'"
      ]
     },
     "execution_count": 1,
     "metadata": {},
     "output_type": "execute_result"
    }
   ],
   "source": [
    "def findnthHighestV(dic: dict, n: int):\n",
    "    if n == 0 or n > len(set(dic.values())):\n",
    "        return False\n",
    "    # whole key value item if value = n th highest in the unique value set, then lambda sort by key.\n",
    "    return sorted([i for i in dic.items() if i[1] == sorted(set(dic.values()))[-n]], \n",
    "                  key = lambda x: x[0])[0][0]\n",
    "findnthHighestV({'f':1,'g':100,'a':1,'z':30,'x':30,'b':2,'c':100,'d':30,'e':100,},2)"
   ]
  },
  {
   "cell_type": "code",
   "execution_count": 139,
   "metadata": {},
   "outputs": [
    {
     "data": {
      "text/plain": [
       "'d'"
      ]
     },
     "execution_count": 139,
     "metadata": {},
     "output_type": "execute_result"
    }
   ],
   "source": [
    "dic = {'f':1,'g':100,'a':1,'x':30,'b':2,'c':100,'d':30,'e':100,}\n",
    "sorted_d = sorted(dic.items(), key = lambda item: (-item[1],item[0]))\n",
    "l = [i for i in dic.items() if i[1] == sorted(set(dic.values()))[-2]]\n",
    "sorted(l, key = lambda x: x[0])[0][0]"
   ]
  },
  {
   "cell_type": "markdown",
   "metadata": {},
   "source": [
    "# Balance the array into a Dictionary"
   ]
  },
  {
   "cell_type": "code",
   "execution_count": 4,
   "metadata": {},
   "outputs": [
    {
     "name": "stdout",
     "output_type": "stream",
     "text": [
      "{1: 3, 3: 2, 4: 0, 10: 4, 5: 3, -6: 4, 9: 3, 42: 4, 31: 1, 27: 4, 6: 4}\n"
     ]
    },
    {
     "data": {
      "text/plain": [
       "{1: 3, 3: 2, 10: 4, 5: 3, -6: 4, 9: 3, 42: 4, 31: 1, 27: 4, 6: 4}"
      ]
     },
     "execution_count": 4,
     "metadata": {},
     "output_type": "execute_result"
    }
   ],
   "source": [
    "def createdict(l: list):\n",
    "    d = {}\n",
    "    result = {}\n",
    "    for i in l:\n",
    "        d[i] = l.count(i)\n",
    "    max_occ = sorted(d.items(), key = lambda item: item[1])[-1][-1]\n",
    "    for i in l:\n",
    "        result[i] = max_occ-l.count(i)\n",
    "    print(result)\n",
    "    return {k:v for k, v in result.items() if v != 0}\n",
    "createdict([1,1,3,3,3,4,4,4,4,4,10,5,5,-6,9,9,42,31,31,31,31,27,6])"
   ]
  },
  {
   "cell_type": "code",
   "execution_count": 5,
   "metadata": {},
   "outputs": [
    {
     "data": {
      "text/plain": [
       "dict_items([(1, 3), (3, 2), (10, 4), (5, 3), (-6, 4), (9, 3), (42, 4), (31, 1), (27, 4), (6, 4)])"
      ]
     },
     "execution_count": 5,
     "metadata": {},
     "output_type": "execute_result"
    }
   ],
   "source": [
    "d = {1: 3, 3: 2, 10: 4, 5: 3, -6: 4, 9: 3, 42: 4, 31: 1, 27: 4, 6: 4}\n",
    "d.items()"
   ]
  },
  {
   "cell_type": "markdown",
   "metadata": {},
   "source": [
    "# Valid Anagram"
   ]
  },
  {
   "cell_type": "code",
   "execution_count": 12,
   "metadata": {},
   "outputs": [
    {
     "data": {
      "text/plain": [
       "True"
      ]
     },
     "execution_count": 12,
     "metadata": {},
     "output_type": "execute_result"
    }
   ],
   "source": [
    "def isAnagram(s: str, t: str):\n",
    "    if sorted(s) == sorted(t):\n",
    "        return True\n",
    "    return False\n",
    "isAnagram('anagram', 'nagaram')"
   ]
  },
  {
   "cell_type": "markdown",
   "metadata": {},
   "source": [
    "# Number of words in a sentence ‘Hello World’ -> 2"
   ]
  },
  {
   "cell_type": "code",
   "execution_count": 14,
   "metadata": {},
   "outputs": [
    {
     "data": {
      "text/plain": [
       "9"
      ]
     },
     "execution_count": 14,
     "metadata": {},
     "output_type": "execute_result"
    }
   ],
   "source": [
    "def count(s):\n",
    "    return len(s.split(' '))\n",
    "count('Hello world, I think it is a good day!')"
   ]
  },
  {
   "cell_type": "markdown",
   "metadata": {},
   "source": [
    "# Find number of followers find occurrence"
   ]
  },
  {
   "cell_type": "code",
   "execution_count": 7,
   "metadata": {},
   "outputs": [
    {
     "name": "stdout",
     "output_type": "stream",
     "text": [
      "[['D']]\n",
      "[['A', 'B'], ['A', 'C']]\n",
      "[['E']]\n",
      "[['C', 'A']]\n"
     ]
    },
    {
     "data": {
      "text/plain": [
       "{'D': 0, 'A': 2, 'E': 0, 'C': 1}"
      ]
     },
     "execution_count": 7,
     "metadata": {},
     "output_type": "execute_result"
    }
   ],
   "source": [
    "def follower(l: list):\n",
    "    d = {}\n",
    "    import itertools\n",
    "    for key, group in itertools.groupby(l, lambda x: x[0]):\n",
    "        group = list(group)\n",
    "        print(group)\n",
    "        if len(group[0]) > 1:\n",
    "            d[key] = len(group)\n",
    "        else:\n",
    "            d[key] = 0\n",
    "#         d[key] = len(list(group)) if len(list(group)[0]) > 1 else 0\n",
    "    return d\n",
    "\n",
    "follower([['D'],['A','B'],['A','C'],['E'],['C','A']])"
   ]
  },
  {
   "cell_type": "code",
   "execution_count": 41,
   "metadata": {},
   "outputs": [
    {
     "name": "stdout",
     "output_type": "stream",
     "text": [
      "{'A': [], 'D': 0, 'C': []}\n"
     ]
    }
   ],
   "source": [
    "import itertools\n",
    "d = {}\n",
    "[['D'],['A','B'],['A','C'],['C','A']]\n",
    "for key, group in itertools.groupby([['A','B'],['A','C'],['D'],['C','A']], lambda x: x[0]):\n",
    "#     group = list(group)\n",
    "    if len(list(group)[0]) > 1:\n",
    "        d[key] = list(group)\n",
    "    else: d[key] = 0\n",
    "print(d)"
   ]
  },
  {
   "cell_type": "code",
   "execution_count": 102,
   "metadata": {},
   "outputs": [
    {
     "data": {
      "text/plain": [
       "[['A', 'B'], ['A', 'C'], ['C', 'A'], ['D']]"
      ]
     },
     "execution_count": 102,
     "metadata": {},
     "output_type": "execute_result"
    }
   ],
   "source": [
    "l = [['D'],['A','B'],['A','C'],['C','A']]\n",
    "sorted(l, key = lambda x: x[0])"
   ]
  },
  {
   "cell_type": "markdown",
   "metadata": {},
   "source": [
    "# Flatten array"
   ]
  },
  {
   "cell_type": "code",
   "execution_count": 17,
   "metadata": {},
   "outputs": [
    {
     "data": {
      "text/plain": [
       "[1, 2, 3, 4, 5, 6]"
      ]
     },
     "execution_count": 17,
     "metadata": {},
     "output_type": "execute_result"
    }
   ],
   "source": [
    "def flatten(l: list):\n",
    "    if isinstance(l, list):\n",
    "        return [i for j in l for i in flatten(j)]\n",
    "    else: return [l]\n",
    "#     return l\n",
    "flatten([1,2,3,[4,5,[6]]])"
   ]
  },
  {
   "cell_type": "code",
   "execution_count": 18,
   "metadata": {},
   "outputs": [
    {
     "name": "stdout",
     "output_type": "stream",
     "text": [
      "[1, 2, 3, 4, 5, 6]\n"
     ]
    }
   ],
   "source": [
    "def flatten(l):\n",
    "    if isinstance(l, list):\n",
    "        for j in l:\n",
    "            yield from flatten(j)\n",
    "    else:\n",
    "        yield l\n",
    "\n",
    "data = [1,2,3,[4,5,[6]]]\n",
    "print(list(flatten(data)))"
   ]
  },
  {
   "cell_type": "code",
   "execution_count": 1,
   "metadata": {},
   "outputs": [
    {
     "name": "stdout",
     "output_type": "stream",
     "text": [
      "[1, 2, 3, 4, 5, 6]\n"
     ]
    }
   ],
   "source": [
    "def flatten(l):\n",
    "    if isinstance(l, list):\n",
    "        for j in l:\n",
    "            for k in flatten(j):\n",
    "                yield k\n",
    "    else:\n",
    "        yield l\n",
    "\n",
    "data = [1,2,3,[4,5,[6]]]\n",
    "print(list(flatten(data)))"
   ]
  },
  {
   "cell_type": "markdown",
   "metadata": {},
   "source": [
    "# Valid Parenthesis"
   ]
  },
  {
   "cell_type": "code",
   "execution_count": null,
   "metadata": {},
   "outputs": [],
   "source": [
    "def isValid(self, s: str) -> bool:\n",
    "    if len(s)%2!=0:\n",
    "        return False\n",
    "    stack = []\n",
    "    for i in s:\n",
    "        if i in '([{':\n",
    "            stack.append(i)\n",
    "        elif stack:\n",
    "            if i ==')' and stack[-1] == '(':\n",
    "                stack.pop()\n",
    "            elif i ==']' and stack[-1] == '[':\n",
    "                stack.pop()\n",
    "            elif i =='}' and stack[-1] == '{':\n",
    "                stack.pop()\n",
    "            else: return False\n",
    "        else: return False\n",
    "    if not stack:\n",
    "        return True\n",
    "    return False"
   ]
  },
  {
   "cell_type": "markdown",
   "metadata": {},
   "source": [
    "# Valid IPV Address"
   ]
  },
  {
   "cell_type": "code",
   "execution_count": 67,
   "metadata": {},
   "outputs": [
    {
     "data": {
      "text/plain": [
       "'IPv4'"
      ]
     },
     "execution_count": 67,
     "metadata": {},
     "output_type": "execute_result"
    }
   ],
   "source": [
    "def validIPAddress(IP: str):       \n",
    "    if IP.find('.') != -1:    # find give unappeared character -1, index raise Value error\n",
    "        if len(IP.split('.')) != 4:\n",
    "            return \"Neither\"\n",
    "        # all digit no@#$ ||| 192.168.01.1 not ok but 192.0.0.0 is ok ||| 0<=digit<=255\n",
    "        elif all(i.isdigit() for i in IP.split('.')) and \\\n",
    "        all(i[0] != '0' for i in IP.split('.') if len(i)>1) and \\\n",
    "        all(int(i) >=0 and int(i)<=255 for i in IP.split('.')):       \n",
    "            return \"IPv4\"\n",
    "        return \"Neither\"\n",
    "    \n",
    "    elif IP.find(':') != -1:\n",
    "        if len(IP.split(':')) != 8:\n",
    "            return \"Neither\"\n",
    "        # 1<=each part<=4 ||| all digits are hexadecimal expressions or colon:\n",
    "        elif all(len(i) >=1 and len(i)<=4 for i in IP.split(\":\")) and \\\n",
    "        all(i in set(\"0123456789abcdefABCDEF:\") for i in IP):         \n",
    "            return \"IPv6\"\n",
    "        return 'Neither'\n",
    "    return \"Neither\"\n",
    "validIPAddress(\"172.16.254.1\")"
   ]
  },
  {
   "cell_type": "markdown",
   "metadata": {},
   "source": [
    "# Count Unhappy friends"
   ]
  },
  {
   "cell_type": "code",
   "execution_count": 79,
   "metadata": {},
   "outputs": [
    {
     "data": {
      "text/plain": [
       "2"
      ]
     },
     "execution_count": 79,
     "metadata": {},
     "output_type": "execute_result"
    }
   ],
   "source": [
    "def unhappyFriends(n: int, preferences: list, pairs: list) -> int:\n",
    "    d, d2 = {}, {}\n",
    "    # d is dictionary of each one paried with whom\n",
    "    for i in pairs:\n",
    "        d.update({i[0]:i[1]})\n",
    "        d.update({i[1]:i[0]})\n",
    "    # d2 is dictionary of each one's preference ranking\n",
    "    for i, j in enumerate(preferences):\n",
    "        d2.update({i: j})\n",
    "    unhappy_frd = []\n",
    "    for i in d.items():\n",
    "        # if the matched person is not the most preferrable friend\n",
    "        if d2[i[0]][0] != i[1]:\n",
    "            # 循环到这个匹配人在当前人物的位置loop until the matched person's position in the friend ranking list\n",
    "            for j in range(0, d2[i[0]].index(i[1])):\n",
    "                # 寻找当前人物的朋友列表中比匹配人物更靠前位置的人\n",
    "                # 找每个更靠前的人自己的排名，并锁定当前人物在这些靠前人物朋友列表里的位置\n",
    "                # 如果当前人物在这个排名中比此人物的配对在此人物的排名中更靠前，则这就是一个unhappy friend。\n",
    "                # 也就是说如果我喜欢你more than我的配对，并且你也更喜欢我more than你的配对，这样就是一个unhappy friend。\n",
    "                if d2[d2[i[0]][j]].index(i[0]) < d2[d2[i[0]][j]].index(d[d2[i[0]][j]]):\n",
    "                    unhappy_frd.append(i[0])\n",
    "    return len(set(unhappy_frd))\n",
    "unhappyFriends(4, [[1, 2, 3], [3, 2, 0], [3, 1, 0], [1, 2, 0]], [[0, 1], [2, 3]])"
   ]
  },
  {
   "cell_type": "markdown",
   "metadata": {},
   "source": [
    "# longest Palindrome"
   ]
  },
  {
   "cell_type": "code",
   "execution_count": 122,
   "metadata": {},
   "outputs": [
    {
     "data": {
      "text/plain": [
       "'daead'"
      ]
     },
     "execution_count": 122,
     "metadata": {},
     "output_type": "execute_result"
    }
   ],
   "source": [
    "def longestPalindrome(s):\n",
    "    n = len(s)\n",
    "    dp = [[False] * n for i in range(n)]\n",
    "    start, end = 0, 0\n",
    "    for i in range(n):\n",
    "        dp[i][i] = True\n",
    "    for i in range(n-1):\n",
    "        if s[i] == s[i+1]:\n",
    "            dp[i][i+1] = True\n",
    "            start, end = i, i+1\n",
    "    for i in range(2, n):\n",
    "        for j in range(n-2):\n",
    "            k = i+j\n",
    "            if k >= n:\n",
    "                break\n",
    "            if dp[j+1][k-1] and s[j] == s[k]:\n",
    "                dp[j][k] = True\n",
    "                start, end = j, k\n",
    "    return s[start: end+1]\n",
    "longestPalindrome('abcdaeada')"
   ]
  },
  {
   "cell_type": "markdown",
   "metadata": {},
   "source": [
    "# Game of Life"
   ]
  },
  {
   "cell_type": "code",
   "execution_count": 121,
   "metadata": {},
   "outputs": [
    {
     "data": {
      "text/plain": [
       "[[0, 0, 0], [1, 0, 1], [0, 1, 1], [0, 1, 0]]"
      ]
     },
     "execution_count": 121,
     "metadata": {},
     "output_type": "execute_result"
    }
   ],
   "source": [
    "class Solution:\n",
    "    def gameOfLife(self, board: list) -> None:\n",
    "        \"\"\"\n",
    "        Do not return anything, modify board in-place instead.\n",
    "        \"\"\"\n",
    "        import copy\n",
    "        board.insert(0,[2]*len(board[0]))\n",
    "        board.append([2]*len(board[0]))\n",
    "        for i in board:\n",
    "            i.insert(0,2)\n",
    "            i.append(2)\n",
    "        save = copy.deepcopy(board)\n",
    "        def counter1(m, i, j):\n",
    "            try:\n",
    "                return [bool(m[i-1][j-1]==1),bool(m[i][j-1]==1),\n",
    "                        bool(m[i-1][j]==1),bool(m[i+1][j-1]==1),\n",
    "                        bool(m[i-1][j+1]==1),bool(m[i][j+1]==1),\n",
    "                        bool(m[i+1][j]==1),bool(m[i+1][j+1]==1)].count(True)\n",
    "            except: raise Exception('Using the function at wrong place!')\n",
    "                \n",
    "        for i in range(1, len(save)-1):\n",
    "            for j in range(1, len(save[0])-1):\n",
    "                if save[i][j] == 1:\n",
    "                    if counter1(save, i, j) < 2 or counter1(save, i, j) > 3:\n",
    "                        board[i][j] = 0\n",
    "                else:\n",
    "                    if counter1(save, i, j) == 3:\n",
    "                        board[i][j] = 1\n",
    "        board.pop(0)\n",
    "        board.pop()\n",
    "        for i in board:\n",
    "            i.pop(0)\n",
    "            i.pop()\n",
    "        return board\n",
    "Solution().gameOfLife([[0,1,0],[0,0,1],[1,1,1],[0,0,0]])"
   ]
  },
  {
   "cell_type": "markdown",
   "metadata": {},
   "source": [
    "# Remove K Digits and Find the Min possible num"
   ]
  },
  {
   "cell_type": "code",
   "execution_count": null,
   "metadata": {},
   "outputs": [],
   "source": [
    "class Solution:\n",
    "    def removeKdigits(self, num: str, k: int) -> str:\n",
    "        if k == len(num):\n",
    "            return \"0\"\n",
    "        stack = []\n",
    "        for i in num:\n",
    "            while stack and i < stack[-1] and k:\n",
    "                stack.pop()\n",
    "                k -= 1\n",
    "            stack.append(i)\n",
    "        for i in range(k):\n",
    "            stack.pop()\n",
    "        return str(int(''.join([i for i in stack])))\n",
    "Solution()"
   ]
  },
  {
   "cell_type": "markdown",
   "metadata": {},
   "source": [
    "# GeneratePrenthesis"
   ]
  },
  {
   "cell_type": "code",
   "execution_count": 1,
   "metadata": {},
   "outputs": [
    {
     "data": {
      "text/plain": [
       "['((()))', '(()())', '(())()', '()(())', '()()()']"
      ]
     },
     "execution_count": 1,
     "metadata": {},
     "output_type": "execute_result"
    }
   ],
   "source": [
    "def GeneratePrenthesis(n):\n",
    "    if n == 0:\n",
    "        return []\n",
    "    result = []\n",
    "    def recursion(l, r, current, result):\n",
    "        if r < l:\n",
    "            return\n",
    "        if r == 0 and l == 0:\n",
    "            result.append(current)\n",
    "        if l > 0:\n",
    "            recursion(l-1, r, current + '(', result)\n",
    "#             print(result)\n",
    "        if r > 0:\n",
    "            recursion(l, r-1, current + ')', result)\n",
    "#             print(result)\n",
    "    recursion(n, n, '', result)\n",
    "    return result\n",
    "GeneratePrenthesis(3)"
   ]
  },
  {
   "cell_type": "code",
   "execution_count": null,
   "metadata": {},
   "outputs": [],
   "source": []
  },
  {
   "cell_type": "code",
   "execution_count": null,
   "metadata": {},
   "outputs": [],
   "source": []
  },
  {
   "cell_type": "markdown",
   "metadata": {},
   "source": [
    "-------------------------------------------------------"
   ]
  },
  {
   "cell_type": "code",
   "execution_count": null,
   "metadata": {},
   "outputs": [],
   "source": []
  },
  {
   "cell_type": "code",
   "execution_count": null,
   "metadata": {},
   "outputs": [],
   "source": []
  },
  {
   "cell_type": "code",
   "execution_count": 18,
   "metadata": {},
   "outputs": [
    {
     "data": {
      "text/plain": [
       "True"
      ]
     },
     "execution_count": 18,
     "metadata": {},
     "output_type": "execute_result"
    }
   ],
   "source": [
    "test_list = [\"434\", \"823\", \"98\", \"74\"]\n",
    "all(map(str.isdigit, test_list)) == True\n",
    "# [ele.isdigit() for ele in test_list]"
   ]
  },
  {
   "cell_type": "code",
   "execution_count": 23,
   "metadata": {},
   "outputs": [
    {
     "data": {
      "text/plain": [
       "12"
      ]
     },
     "execution_count": 23,
     "metadata": {},
     "output_type": "execute_result"
    }
   ],
   "source": [
    "def solution(A):\n",
    "    # write your code in Python 3.6\n",
    "    num = 1\n",
    "    while True:\n",
    "        if num in [i for i in A if i > 0]:\n",
    "            num += 1\n",
    "        else: break\n",
    "    return num\n",
    "solution([45,-8,27,-6,2,6,5,-7,4,3,1,9,7,-7,8,11,-10,10,3])"
   ]
  },
  {
   "cell_type": "code",
   "execution_count": 24,
   "metadata": {},
   "outputs": [
    {
     "data": {
      "text/plain": [
       "12"
      ]
     },
     "execution_count": 24,
     "metadata": {},
     "output_type": "execute_result"
    }
   ],
   "source": [
    "def solution(A):\n",
    "    m = max(A)\n",
    "    if m < 1:\n",
    "        return 1\n",
    "\n",
    "    A = set(A)\n",
    "    B = set(range(1, m + 1))\n",
    "    D = B - A\n",
    "    if len(D) == 0:\n",
    "        return m + 1\n",
    "    else:\n",
    "        return min(D)\n",
    "solution([45,-8,27,-6,2,6,5,-7,4,3,1,9,7,-7,8,11,-10,10,3])"
   ]
  },
  {
   "cell_type": "code",
   "execution_count": 29,
   "metadata": {},
   "outputs": [
    {
     "data": {
      "text/plain": [
       "5"
      ]
     },
     "execution_count": 29,
     "metadata": {},
     "output_type": "execute_result"
    }
   ],
   "source": [
    "class Solution:\n",
    "    def jump(self, A):\n",
    "        @lru_cache(None)\n",
    "        def dp(i):\n",
    "            if i == 0:\n",
    "                return 0\n",
    "            ans = float('inf')\n",
    "            for j in range(i):\n",
    "                if A[j] >= i - j:\n",
    "                    ans = min(ans, dp(j) + 1)\n",
    "            return ans\n",
    "\n",
    "        return dp(len(A) - 1)"
   ]
  },
  {
   "cell_type": "code",
   "execution_count": null,
   "metadata": {},
   "outputs": [],
   "source": [
    "6459251\n",
    "-645921\n",
    "649251"
   ]
  },
  {
   "cell_type": "code",
   "execution_count": 9,
   "metadata": {},
   "outputs": [
    {
     "data": {
      "text/plain": [
       "-94"
      ]
     },
     "execution_count": 9,
     "metadata": {},
     "output_type": "execute_result"
    }
   ],
   "source": [
    "def solution(A):\n",
    "    ans = A[0]\n",
    "    for i in range(1, len(A)):\n",
    "        if A[i] < ans:\n",
    "            ans = A[i]\n",
    "    return ans\n",
    "solution([56,32,-7,-9,4, 8, -94,10, 19])"
   ]
  },
  {
   "cell_type": "code",
   "execution_count": null,
   "metadata": {},
   "outputs": [],
   "source": [
    "def solution(N):\n",
    "    # write your code in Python 3.6\n",
    "    for i in range(len(str(N))):\n",
    "        if i == '5':\n",
    "            del N[i]\n",
    "            break\n",
    "    return \n",
    "solution"
   ]
  },
  {
   "cell_type": "code",
   "execution_count": 32,
   "metadata": {},
   "outputs": [
    {
     "data": {
      "text/plain": [
       "'1463748'"
      ]
     },
     "execution_count": 32,
     "metadata": {},
     "output_type": "execute_result"
    }
   ],
   "source": [
    "s = '1463748'\n",
    "# del s[2]\n",
    "s"
   ]
  },
  {
   "cell_type": "code",
   "execution_count": null,
   "metadata": {},
   "outputs": [],
   "source": [
    "def solution(A):\n",
    "    ans = A[0]\n",
    "    for i in range(1, len(A)):\n",
    "        if A[i] < ans:\n",
    "            ans = A[i]\n",
    "    return ans"
   ]
  },
  {
   "cell_type": "code",
   "execution_count": 93,
   "metadata": {},
   "outputs": [
    {
     "data": {
      "text/plain": [
       "-5525"
      ]
     },
     "execution_count": 93,
     "metadata": {},
     "output_type": "execute_result"
    }
   ],
   "source": [
    "def solution(N):\n",
    "    # write your code in Python 3.6\n",
    "    l = [i for i in str(N)]\n",
    "    if N > 0:\n",
    "        for i in range(len(l)):\n",
    "            if l[i] == '5':\n",
    "                del l[i]\n",
    "                break\n",
    "    else: \n",
    "        for i in range(-1,-len(l),-1):\n",
    "            if l[i] == '5':\n",
    "                del l[i]\n",
    "                break\n",
    "    return int(''.join(l))\n",
    "solution(-55255)"
   ]
  },
  {
   "cell_type": "code",
   "execution_count": 143,
   "metadata": {},
   "outputs": [
    {
     "data": {
      "text/plain": [
       "28535"
      ]
     },
     "execution_count": 143,
     "metadata": {},
     "output_type": "execute_result"
    }
   ],
   "source": [
    "def solution(N):\n",
    "    # write your code in Python 3.6\n",
    "    l = [i for i in str(N)]\n",
    "    if N > 0:\n",
    "        for i in range(len(l)-1):\n",
    "            if l[i] == '5' and int(l[i+1])>5:\n",
    "                del l[i]\n",
    "                break\n",
    "            else:\n",
    "                for i, j in enumerate(l[::-1]):\n",
    "                    if j == '5':\n",
    "                        del l[i]\n",
    "                        break\n",
    "    else:\n",
    "        for i in range(len(l)-1):\n",
    "            if l[i] == '5' and int(l[i+1])<5:\n",
    "                del l[i]\n",
    "                break\n",
    "            else: \n",
    "                for i, j in enumerate(l[::-1]):\n",
    "                    if j == '5':\n",
    "                        del l[i]\n",
    "                        break\n",
    "    return int(''.join(l))\n",
    "solution(5258535)"
   ]
  },
  {
   "cell_type": "code",
   "execution_count": 140,
   "metadata": {},
   "outputs": [
    {
     "data": {
      "text/plain": [
       "['-', '5', '8', '9']"
      ]
     },
     "execution_count": 140,
     "metadata": {},
     "output_type": "execute_result"
    }
   ],
   "source": [
    "[i for i in str(-589)]"
   ]
  },
  {
   "cell_type": "code",
   "execution_count": 136,
   "metadata": {},
   "outputs": [],
   "source": [
    "l = ['5','2','5','3']\n",
    "for i in l[-1:-4]:\n",
    "    print(i)"
   ]
  },
  {
   "cell_type": "code",
   "execution_count": 15,
   "metadata": {},
   "outputs": [
    {
     "data": {
      "text/plain": [
       "28"
      ]
     },
     "execution_count": 15,
     "metadata": {},
     "output_type": "execute_result"
    }
   ],
   "source": [
    "int('011100',2)"
   ]
  },
  {
   "cell_type": "code",
   "execution_count": 42,
   "metadata": {},
   "outputs": [
    {
     "data": {
      "text/plain": [
       "154"
      ]
     },
     "execution_count": 42,
     "metadata": {},
     "output_type": "execute_result"
    }
   ],
   "source": [
    "def solution(n):\n",
    "    # write your code in Python 3.6\n",
    "    count = 0\n",
    "#     n = int(S,2)\n",
    "    while n > 0:\n",
    "        if n % 2 == 0:\n",
    "            n = int(n/2)\n",
    "        else: n -= 1\n",
    "        count += 1\n",
    "    return count\n",
    "solution(int('1'*40))"
   ]
  },
  {
   "cell_type": "code",
   "execution_count": 39,
   "metadata": {},
   "outputs": [
    {
     "data": {
      "text/plain": [
       "25"
      ]
     },
     "execution_count": 39,
     "metadata": {},
     "output_type": "execute_result"
    }
   ],
   "source": [
    "50//2"
   ]
  },
  {
   "cell_type": "code",
   "execution_count": 31,
   "metadata": {},
   "outputs": [],
   "source": [
    "# def func(*args):\n",
    "#     s = 0\n",
    "#     for arg in args:\n",
    "#         s += arg\n",
    "#     return s\n",
    "# result = map(func(2,3,4,6,8))\n",
    "# list(result)"
   ]
  },
  {
   "cell_type": "code",
   "execution_count": null,
   "metadata": {},
   "outputs": [],
   "source": []
  },
  {
   "cell_type": "code",
   "execution_count": 59,
   "metadata": {},
   "outputs": [
    {
     "data": {
      "text/plain": [
       "['a', 'b', ' e', 'g']"
      ]
     },
     "execution_count": 59,
     "metadata": {},
     "output_type": "execute_result"
    }
   ],
   "source": [
    "indexes = [2, 3, 5]\n",
    "my_list = ['a', 'b', 'c', 'd',' e', 'f', 'g']\n",
    "for index in sorted(indexes, reverse=True):\n",
    "    del my_list[index]\n",
    "my_list"
   ]
  },
  {
   "cell_type": "code",
   "execution_count": 27,
   "metadata": {},
   "outputs": [],
   "source": [
    "def square(n):\n",
    "    for i in range(n):\n",
    "        yield i**2\n",
    "for i in square(10000000000):\n",
    "    print(i)"
   ]
  },
  {
   "cell_type": "code",
   "execution_count": 29,
   "metadata": {},
   "outputs": [
    {
     "data": {
      "text/plain": [
       "1"
      ]
     },
     "execution_count": 29,
     "metadata": {},
     "output_type": "execute_result"
    }
   ],
   "source": [
    "class Solution:\n",
    "    def numberOfSteps(self, num: int) -> int:\n",
    "        count = 0\n",
    "        while num > 0:\n",
    "            if num % 2 == 0:\n",
    "                num = num//2\n",
    "            else: num -= 1\n",
    "            count += 1\n",
    "        return count\n",
    "#         c=0\n",
    "#         while num!=0: \n",
    "#             if num%2==0:\n",
    "#                 num=num//2\n",
    "#                 c=c+1\n",
    "#             else:\n",
    "#                 num=(num//2)\n",
    "#                 c=c+2\n",
    "#         return c-1\n",
    "Solution().numberOfSteps(int('1'))"
   ]
  },
  {
   "cell_type": "code",
   "execution_count": 73,
   "metadata": {},
   "outputs": [
    {
     "data": {
      "text/plain": [
       "9"
      ]
     },
     "execution_count": 73,
     "metadata": {},
     "output_type": "execute_result"
    }
   ],
   "source": [
    "def numberOfSteps(num: int):\n",
    "        #Base case:\n",
    "        if num == 0:\n",
    "            return 0\n",
    "        else:\n",
    "            if num % 2:\n",
    "                num = num - 1\n",
    "            else:\n",
    "                num = num//2\n",
    "            \n",
    "        return 1 + numberOfSteps(num)\n",
    "numberOfSteps(45)"
   ]
  },
  {
   "cell_type": "code",
   "execution_count": 86,
   "metadata": {},
   "outputs": [
    {
     "data": {
      "text/plain": [
       "str"
      ]
     },
     "execution_count": 86,
     "metadata": {},
     "output_type": "execute_result"
    }
   ],
   "source": [
    "type(bin(9))"
   ]
  },
  {
   "cell_type": "code",
   "execution_count": 91,
   "metadata": {},
   "outputs": [
    {
     "data": {
      "text/plain": [
       "7"
      ]
     },
     "execution_count": 91,
     "metadata": {},
     "output_type": "execute_result"
    }
   ],
   "source": [
    "def solution2(S):\n",
    "    n = int(S,2)\n",
    "    if n == 0:\n",
    "        return 0\n",
    "    else:\n",
    "        if n % 2:\n",
    "            n = n - 1\n",
    "        else:\n",
    "            n = n//2      \n",
    "    return 1 + solution2(bin(n))\n",
    "solution('011100')"
   ]
  },
  {
   "cell_type": "code",
   "execution_count": 85,
   "metadata": {},
   "outputs": [
    {
     "data": {
      "text/plain": [
       "9"
      ]
     },
     "execution_count": 85,
     "metadata": {},
     "output_type": "execute_result"
    }
   ],
   "source": [
    "int('0b1001',2)"
   ]
  },
  {
   "cell_type": "code",
   "execution_count": 30,
   "metadata": {},
   "outputs": [
    {
     "data": {
      "text/plain": [
       "7"
      ]
     },
     "execution_count": 30,
     "metadata": {},
     "output_type": "execute_result"
    }
   ],
   "source": [
    "def solution(S):\n",
    "    # write your code in Python 3.6\n",
    "    if S == '0':\n",
    "        return 0\n",
    "    n = int(S,2)\n",
    "    count = 0\n",
    "    while n > 0:\n",
    "        if n % 2 == 0:\n",
    "            n = n//2\n",
    "        else: n -= 1\n",
    "        count += 1\n",
    "    return count\n",
    "solution('011100')"
   ]
  },
  {
   "cell_type": "code",
   "execution_count": null,
   "metadata": {},
   "outputs": [],
   "source": []
  },
  {
   "cell_type": "code",
   "execution_count": 3,
   "metadata": {},
   "outputs": [
    {
     "name": "stderr",
     "output_type": "stream",
     "text": [
      "<>:2: SyntaxWarning: \"is\" with a literal. Did you mean \"==\"?\n",
      "<>:2: SyntaxWarning: \"is\" with a literal. Did you mean \"==\"?\n",
      "<ipython-input-3-20b3241a9fee>:2: SyntaxWarning: \"is\" with a literal. Did you mean \"==\"?\n",
      "  if 4 is int:\n"
     ]
    }
   ],
   "source": [
    "s = {1,3,4,5,7,8,11}\n",
    "if 4 is int:\n",
    "    print(\"good\")"
   ]
  },
  {
   "cell_type": "code",
   "execution_count": 5,
   "metadata": {},
   "outputs": [
    {
     "data": {
      "text/plain": [
       "[['a', 'b', 'c']]"
      ]
     },
     "execution_count": 5,
     "metadata": {},
     "output_type": "execute_result"
    }
   ],
   "source": [
    "list_1 = ['a', 'b', 'c']\n",
    "list_2 = list_1\n",
    "list_3 = list(list_1)\n",
    "list_3"
   ]
  },
  {
   "cell_type": "code",
   "execution_count": 16,
   "metadata": {},
   "outputs": [
    {
     "name": "stdout",
     "output_type": "stream",
     "text": [
      "False\n",
      "False\n"
     ]
    }
   ],
   "source": [
    "board = [[\"8\",\"3\",\".\",\".\",\"7\",\".\",\".\",\".\",\".\"]\n",
    ",[\"6\",\".\",\".\",\"1\",\"9\",\"5\",\".\",\".\",\".\"]\n",
    ",[\".\",\"9\",\"8\",\".\",\".\",\".\",\".\",\"6\",\".\"]\n",
    ",[\"8\",\".\",\".\",\".\",\"6\",\".\",\".\",\".\",\"3\"]\n",
    ",[\"4\",\".\",\".\",\"8\",\".\",\"3\",\".\",\".\",\"1\"]\n",
    ",[\"7\",\".\",\".\",\".\",\"2\",\".\",\".\",\".\",\"6\"]\n",
    ",[\".\",\"6\",\".\",\".\",\".\",\".\",\"2\",\"8\",\".\"]\n",
    ",[\".\",\".\",\".\",\"4\",\"1\",\"9\",\".\",\".\",\"5\"]\n",
    ",[\".\",\".\",\".\",\".\",\"8\",\".\",\".\",\"7\",\"9\"]]\n",
    "lset1 = [set() for i in range(9)]\n",
    "lset2 = [set() for i in range(9)]\n",
    "lset3 = [[set() for i in range(3)] for j in range(3)]\n",
    "for i in range(9):\n",
    "    for j in range(9):\n",
    "        if not board[i][j].isnumeric():\n",
    "            continue\n",
    "        x = i//3\n",
    "        y = j//3\n",
    "        if board[i][j] in lset1[i] or board[i][j] in lset2[j] or board[i][j] in lset3[x][y]:\n",
    "            print(False)\n",
    "        lset1[i].add(board[i][j])\n",
    "        lset2[j].add(board[i][j])\n",
    "        lset3[x][y].add(board[i][j])\n",
    "# print(lset1,'\\n')\n",
    "# print(lset2,'\\n')\n",
    "# print(lset3,'\\n')"
   ]
  },
  {
   "cell_type": "code",
   "execution_count": 42,
   "metadata": {},
   "outputs": [
    {
     "data": {
      "text/plain": [
       "['a', 'e', 'l', 'p', 'p']"
      ]
     },
     "execution_count": 42,
     "metadata": {},
     "output_type": "execute_result"
    }
   ],
   "source": [
    "sorted(list(\"apple\"))"
   ]
  },
  {
   "cell_type": "code",
   "execution_count": 46,
   "metadata": {},
   "outputs": [
    {
     "data": {
      "text/plain": [
       "\"['a', 'e', 'l', 'p', 'p']\""
      ]
     },
     "execution_count": 46,
     "metadata": {},
     "output_type": "execute_result"
    }
   ],
   "source": [
    "\n",
    "str(sorted(list('apple')))"
   ]
  },
  {
   "cell_type": "code",
   "execution_count": 47,
   "metadata": {},
   "outputs": [
    {
     "data": {
      "text/plain": [
       "[1, 2, 3, 4, 5]"
      ]
     },
     "execution_count": 47,
     "metadata": {},
     "output_type": "execute_result"
    }
   ],
   "source": [
    "[1,2,3]+[4,5]"
   ]
  },
  {
   "cell_type": "code",
   "execution_count": 48,
   "metadata": {},
   "outputs": [
    {
     "name": "stdout",
     "output_type": "stream",
     "text": [
      "1,2,3,4\n"
     ]
    }
   ],
   "source": [
    "n = input()"
   ]
  },
  {
   "cell_type": "code",
   "execution_count": 1,
   "metadata": {},
   "outputs": [
    {
     "name": "stdout",
     "output_type": "stream",
     "text": [
      "Meow\n"
     ]
    }
   ],
   "source": [
    "class cat:\n",
    "    def speak(self):\n",
    "        print(\"Meow\")\n",
    "c = cat()\n",
    "c.speak()"
   ]
  },
  {
   "cell_type": "code",
   "execution_count": 2,
   "metadata": {},
   "outputs": [
    {
     "data": {
      "text/plain": [
       "False"
      ]
     },
     "execution_count": 2,
     "metadata": {},
     "output_type": "execute_result"
    }
   ],
   "source": [
    "l = [2,4,6,7,8]\n",
    "bool(3 in l)"
   ]
  },
  {
   "cell_type": "code",
   "execution_count": 6,
   "metadata": {},
   "outputs": [
    {
     "name": "stdout",
     "output_type": "stream",
     "text": [
      "{1} {1}\n",
      "[[1, 0, 1], [0, 0, 0], [1, 0, 1]]\n"
     ]
    }
   ],
   "source": [
    "matrix = [[1,1,1],[1,0,1],[1,1,1]]\n",
    "rows = []\n",
    "columns = []\n",
    "for i in range(len(matrix)):\n",
    "    for j in range(len(matrix[0])):\n",
    "        if matrix[i][j] == 0:\n",
    "            rows.append(i)\n",
    "            columns.append(j)\n",
    "rows = set(rows)\n",
    "columns = set(columns)\n",
    "print(rows, columns)\n",
    "for i in range(len(matrix)):\n",
    "    if i in rows:\n",
    "        matrix[i] = [0] * len(matrix[0])\n",
    "    for j in range(len(matrix[0])):\n",
    "        if j in columns:\n",
    "            matrix[i][j] = 0\n",
    "print(matrix)"
   ]
  },
  {
   "cell_type": "code",
   "execution_count": null,
   "metadata": {},
   "outputs": [],
   "source": []
  },
  {
   "cell_type": "code",
   "execution_count": null,
   "metadata": {},
   "outputs": [],
   "source": []
  },
  {
   "cell_type": "code",
   "execution_count": null,
   "metadata": {},
   "outputs": [],
   "source": []
  },
  {
   "cell_type": "code",
   "execution_count": null,
   "metadata": {},
   "outputs": [],
   "source": []
  },
  {
   "cell_type": "code",
   "execution_count": null,
   "metadata": {},
   "outputs": [],
   "source": []
  },
  {
   "cell_type": "code",
   "execution_count": null,
   "metadata": {},
   "outputs": [],
   "source": []
  },
  {
   "cell_type": "code",
   "execution_count": null,
   "metadata": {},
   "outputs": [],
   "source": []
  },
  {
   "cell_type": "code",
   "execution_count": null,
   "metadata": {},
   "outputs": [],
   "source": []
  },
  {
   "cell_type": "code",
   "execution_count": null,
   "metadata": {},
   "outputs": [],
   "source": []
  },
  {
   "cell_type": "code",
   "execution_count": null,
   "metadata": {},
   "outputs": [],
   "source": []
  },
  {
   "cell_type": "code",
   "execution_count": null,
   "metadata": {},
   "outputs": [],
   "source": []
  },
  {
   "cell_type": "code",
   "execution_count": null,
   "metadata": {},
   "outputs": [],
   "source": []
  },
  {
   "cell_type": "code",
   "execution_count": null,
   "metadata": {},
   "outputs": [],
   "source": []
  },
  {
   "cell_type": "code",
   "execution_count": null,
   "metadata": {},
   "outputs": [],
   "source": []
  }
 ],
 "metadata": {
  "kernelspec": {
   "display_name": "Python 3",
   "language": "python",
   "name": "python3"
  },
  "language_info": {
   "codemirror_mode": {
    "name": "ipython",
    "version": 3
   },
   "file_extension": ".py",
   "mimetype": "text/x-python",
   "name": "python",
   "nbconvert_exporter": "python",
   "pygments_lexer": "ipython3",
   "version": "3.8.3"
  }
 },
 "nbformat": 4,
 "nbformat_minor": 4
}
