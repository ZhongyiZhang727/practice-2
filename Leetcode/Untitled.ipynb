{
 "cells": [
  {
   "cell_type": "code",
   "execution_count": 2,
   "metadata": {},
   "outputs": [
    {
     "data": {
      "text/plain": [
       "4"
      ]
     },
     "execution_count": 2,
     "metadata": {},
     "output_type": "execute_result"
    }
   ],
   "source": [
    "class Solution:\n",
    "    def numDecodings(self, s: str) -> int:\n",
    "#         @cache\n",
    "        def recur(i):\n",
    "            if i==len(s):\n",
    "                return 1\n",
    "            res=0\n",
    "            if int(s[i]) > 0:\n",
    "                res+=recur(i+1)\n",
    "\n",
    "            if i<len(s)-1 and 10<=int(s[i]+s[i+1])<27:\n",
    "                res+=recur(i+2)\n",
    "            return res\n",
    "        return (recur(0))\n",
    "o = Solution()\n",
    "o.numDecodings('2314')"
   ]
  },
  {
   "cell_type": "code",
   "execution_count": null,
   "metadata": {},
   "outputs": [],
   "source": []
  },
  {
   "cell_type": "code",
   "execution_count": 2,
   "metadata": {},
   "outputs": [
    {
     "data": {
      "text/plain": [
       "[2, 3]"
      ]
     },
     "execution_count": 2,
     "metadata": {},
     "output_type": "execute_result"
    }
   ],
   "source": [
    "[2,3] + []"
   ]
  },
  {
   "cell_type": "code",
   "execution_count": 15,
   "metadata": {},
   "outputs": [
    {
     "data": {
      "text/plain": [
       "'ever!'"
      ]
     },
     "execution_count": 15,
     "metadata": {},
     "output_type": "execute_result"
    }
   ],
   "source": [
    "def most_repeating_word(strg):\n",
    "    words =strg.split()\n",
    "    max_repeat_count = 0\n",
    "    for words1 in words:\n",
    "        dict1 = {}\n",
    "        for letter in words1:\n",
    "            if letter not in dict1:\n",
    "                dict1[letter] = 1\n",
    "            else:\n",
    "                dict1[letter] += 1\n",
    "            if dict1[letter]> max_repeat_count:\n",
    "                max_repeat_count = dict1[letter]\n",
    "#                 most_repeated_char = letter\n",
    "                result=words1\n",
    "    if max_repeat_count == 1:\n",
    "        return -1\n",
    "    else: \n",
    "        return result\n",
    "\n",
    "most_repeating_word(\"Today, is the worst day ever!\")"
   ]
  },
  {
   "cell_type": "code",
   "execution_count": 5,
   "metadata": {},
   "outputs": [
    {
     "data": {
      "text/plain": [
       "'No'"
      ]
     },
     "execution_count": 5,
     "metadata": {},
     "output_type": "execute_result"
    }
   ],
   "source": [
    "from collections import Counter\n",
    "\n",
    "def most_repeating_word2(strg):\n",
    "    # Create list of word tuples: (word, max_letter, max_count)\n",
    "    counters = [ (word, *max(Counter(word).items(), key=lambda item: item[1]))\n",
    "                 for word in strg.split() ]\n",
    "    max_word, max_letter, max_count = max(counters, key=lambda item: item[2])\n",
    "    return max_word\n",
    "most_repeating_word2(\"No Words\")"
   ]
  },
  {
   "cell_type": "code",
   "execution_count": null,
   "metadata": {},
   "outputs": [],
   "source": []
  },
  {
   "cell_type": "code",
   "execution_count": 17,
   "metadata": {},
   "outputs": [
    {
     "name": "stdout",
     "output_type": "stream",
     "text": [
      "Hello World\n"
     ]
    }
   ],
   "source": [
    "import re\n",
    "s = 'Hello, World!'\n",
    " \n",
    "s = re.sub(r'[.,\"\\'-?:!;]', '', s)\n",
    "print(s)    # Hello World\n",
    " "
   ]
  },
  {
   "cell_type": "code",
   "execution_count": null,
   "metadata": {},
   "outputs": [],
   "source": []
  },
  {
   "cell_type": "code",
   "execution_count": null,
   "metadata": {},
   "outputs": [],
   "source": []
  },
  {
   "cell_type": "code",
   "execution_count": null,
   "metadata": {},
   "outputs": [],
   "source": []
  }
 ],
 "metadata": {
  "kernelspec": {
   "display_name": "Python 3",
   "language": "python",
   "name": "python3"
  },
  "language_info": {
   "codemirror_mode": {
    "name": "ipython",
    "version": 3
   },
   "file_extension": ".py",
   "mimetype": "text/x-python",
   "name": "python",
   "nbconvert_exporter": "python",
   "pygments_lexer": "ipython3",
   "version": "3.8.3"
  }
 },
 "nbformat": 4,
 "nbformat_minor": 4
}
